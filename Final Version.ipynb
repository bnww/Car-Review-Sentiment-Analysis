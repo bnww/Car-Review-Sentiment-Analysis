{
 "cells": [
  {
   "cell_type": "code",
   "execution_count": 1,
   "metadata": {},
   "outputs": [],
   "source": [
    "import pandas as pd\n",
    "import numpy as np\n",
    "import sklearn\n",
    "from sklearn.feature_extraction.text import CountVectorizer\n",
    "from nltk.stem.snowball import SnowballStemmer\n",
    "from sklearn.naive_bayes import MultinomialNB\n",
    "from sklearn import svm\n",
    "from sklearn.metrics import accuracy_score, confusion_matrix, ConfusionMatrixDisplay, classification_report"
   ]
  },
  {
   "cell_type": "code",
   "execution_count": 2,
   "metadata": {},
   "outputs": [],
   "source": [
    "# Read the data into a Pandas dataframe\n",
    "data = pd.read_csv(\"car-reviews.csv\")"
   ]
  },
  {
   "cell_type": "code",
   "execution_count": 71,
   "metadata": {
    "scrolled": true
   },
   "outputs": [],
   "source": [
    "# Cleaning the data\n",
    "# Using stemming to reduce the number of features whilst retaining word meaning\n",
    "\n",
    "def stem_words(corpus):\n",
    "    stemmer = SnowballStemmer(\"english\")\n",
    "    tokens = corpus.split()\n",
    "    stemmed_tokens = []\n",
    "    for token in tokens:\n",
    "        if not token.isalpha():\n",
    "            token = 'NUM' # any string with a number in it changed to 'NUM'\n",
    "        stemmed_tokens.append(stemmer.stem(token))\n",
    "    return ' '.join(stemmed_tokens)\n",
    "\n",
    "training, testing = sklearn.model_selection.train_test_split(data, train_size = 0.8, test_size = 0.2, shuffle = True)"
   ]
  },
  {
   "cell_type": "code",
   "execution_count": 72,
   "metadata": {},
   "outputs": [
    {
     "name": "stderr",
     "output_type": "stream",
     "text": [
      "<ipython-input-72-4fc820978b20>:1: SettingWithCopyWarning: \n",
      "A value is trying to be set on a copy of a slice from a DataFrame.\n",
      "Try using .loc[row_indexer,col_indexer] = value instead\n",
      "\n",
      "See the caveats in the documentation: https://pandas.pydata.org/pandas-docs/stable/user_guide/indexing.html#returning-a-view-versus-a-copy\n",
      "  training['Stemmed'] = training['Review'].apply(stem_words) # adding new df column with stemmed version of the text\n",
      "<ipython-input-72-4fc820978b20>:2: SettingWithCopyWarning: \n",
      "A value is trying to be set on a copy of a slice from a DataFrame.\n",
      "Try using .loc[row_indexer,col_indexer] = value instead\n",
      "\n",
      "See the caveats in the documentation: https://pandas.pydata.org/pandas-docs/stable/user_guide/indexing.html#returning-a-view-versus-a-copy\n",
      "  testing['Stemmed'] = testing['Review'].apply(stem_words)\n"
     ]
    }
   ],
   "source": [
    "training['Stemmed'] = training['Review'].apply(stem_words) # adding new df column with stemmed version of the text\n",
    "testing['Stemmed'] = testing['Review'].apply(stem_words)"
   ]
  },
  {
   "cell_type": "code",
   "execution_count": 73,
   "metadata": {},
   "outputs": [
    {
     "name": "stdout",
     "output_type": "stream",
     "text": [
      "<bound method NDFrame.head of      Sentiment                                             Review  \\\n",
      "829        Pos   My husband recently traded our 1996 B4000 Maz...   \n",
      "1197       Pos   The ford Taurus is a great car for young or o...   \n",
      "1236       Pos   I recently had the chance to rent a loaded Es...   \n",
      "275        Neg   Last year  my wife needed a newer car than th...   \n",
      "117        Neg   I was lucky enough to get to drive my best fr...   \n",
      "...        ...                                                ...   \n",
      "557        Neg   Being that I rented at least 5 of these babie...   \n",
      "6          Neg   We bought this van in 1999  after having been...   \n",
      "1039       Pos   A few years ago we bought a Ford Explorer use...   \n",
      "155        Neg   We bought a new Explorer in 1995 and felt we ...   \n",
      "849        Pos   When we first married  my husband and I thoug...   \n",
      "\n",
      "                                                Stemmed  \n",
      "829   my husband recent trade our num num mazda for ...  \n",
      "1197  the ford taurus is a great car for young or ol...  \n",
      "1236  i recent had the chanc to rent a load escap fo...  \n",
      "275   last year my wife need a newer car than the nu...  \n",
      "117   i was lucki enough to get to drive my best fri...  \n",
      "...                                                 ...  \n",
      "557   be that i rent at least num of these babi make...  \n",
      "6     we bought this van in num after have been a re...  \n",
      "1039  a few year ago we bought a ford explor use at ...  \n",
      "155   we bought a new explor in num and felt we got ...  \n",
      "849   when we first marri my husband and i thought t...  \n",
      "\n",
      "[1105 rows x 3 columns]>\n"
     ]
    }
   ],
   "source": [
    "# Here you can see what the stemming function has done to the text\n",
    "print(training.head)"
   ]
  },
  {
   "cell_type": "code",
   "execution_count": 74,
   "metadata": {},
   "outputs": [],
   "source": [
    "# Extracting the features from the training data and counting their frequency in each review\n",
    "\"\"\" The CountVectorizer module from Sklearn allows you to easily vectorize (tokenize)\n",
    " the dataset, and specify stopwords and a minimum and maximum frequency.\n",
    " Here I am using a minimum frequency of 0.01, so any feature (word)\n",
    " which appears in less than 1 in 100 reviews is dropped from the training set. This also removes all punctuation.\"\"\"\n",
    "\n",
    "vect = CountVectorizer(stop_words='english', min_df=0.01, max_df=1.0, ngram_range=(1,1))\n",
    "vect.fit(training['Stemmed']) # extracts features from the training dataset which conform to the set conditions\n",
    "\n",
    "# feature counting for training and testing datasets, output is of size (n reviews, n features).\n",
    "train_features = vect.transform(training['Stemmed']) \n",
    "test_features = vect.transform(testing['Stemmed'])\n",
    "        \n",
    "train_labels = np.array(training['Sentiment'])\n",
    "test_labels = np.array(testing['Sentiment'])"
   ]
  },
  {
   "cell_type": "code",
   "execution_count": 75,
   "metadata": {},
   "outputs": [],
   "source": [
    "nb_clf = MultinomialNB(alpha = 1) # creating a Naive Bayes classifier with laplace smoothing of 1"
   ]
  },
  {
   "cell_type": "code",
   "execution_count": 84,
   "metadata": {},
   "outputs": [],
   "source": [
    "# Uses an inputted clf and the training features to predict sentiment values\n",
    "\n",
    "def predict(clf, train_feat, train_lab, test_feat, test_lab):\n",
    "    clf.fit(train_features, train_labels)\n",
    "    train_pred = clf.predict(train_features)\n",
    "    test_pred = clf.predict(test_features)\n",
    "\n",
    "    train_conf = confusion_matrix(train_labels, train_pred)\n",
    "    test_conf = confusion_matrix(test_labels, test_pred)\n",
    "        \n",
    "    train_display = ConfusionMatrixDisplay(train_conf, display_labels = clf.classes_)\n",
    "    test_display = ConfusionMatrixDisplay(test_conf, display_labels = clf.classes_)\n",
    "        \n",
    "    print(f'Classified using {type(clf)}.\\n{train_features.shape[1]} features identified, with a total feature frequency across the entire dataset of {train_features.sum() + test_features.sum()}.\\n')\n",
    "    print(f'Training report:\\n {classification_report(train_labels, train_pred)}\\n')\n",
    "    train_display.plot()\n",
    "    \n",
    "    print(f'Testing report:\\n {classification_report(test_labels, test_pred)}')\n",
    "    test_display.plot()\n"
   ]
  },
  {
   "cell_type": "code",
   "execution_count": 85,
   "metadata": {},
   "outputs": [
    {
     "name": "stdout",
     "output_type": "stream",
     "text": [
      "Classified using <class 'sklearn.naive_bayes.MultinomialNB'>.\n",
      "1845 features identified, with a total feature frequency across the entire dataset of 261423.\n",
      "\n",
      "Training report:\n",
      "               precision    recall  f1-score   support\n",
      "\n",
      "         Neg       0.86      0.82      0.84       552\n",
      "         Pos       0.83      0.87      0.85       553\n",
      "\n",
      "    accuracy                           0.84      1105\n",
      "   macro avg       0.85      0.84      0.84      1105\n",
      "weighted avg       0.85      0.84      0.84      1105\n",
      "\n",
      "\n",
      "Testing report:\n",
      "               precision    recall  f1-score   support\n",
      "\n",
      "         Neg       0.78      0.68      0.73       139\n",
      "         Pos       0.71      0.81      0.76       138\n",
      "\n",
      "    accuracy                           0.74       277\n",
      "   macro avg       0.75      0.74      0.74       277\n",
      "weighted avg       0.75      0.74      0.74       277\n",
      "\n"
     ]
    },
    {
     "data": {
      "image/png": "[encoded data removed]",
      "text/plain": [
       "<Figure size 432x288 with 2 Axes>"
      ]
     },
     "metadata": {
      "needs_background": "light"
     },
     "output_type": "display_data"
    },
    {
     "data": {
      "image/png": "[encoded data removed]",
      "text/plain": [
       "<Figure size 432x288 with 2 Axes>"
      ]
     },
     "metadata": {
      "needs_background": "light"
     },
     "output_type": "display_data"
    }
   ],
   "source": [
    "predict(nb_clf, train_features, train_labels, test_features, test_labels)"
   ]
  },
  {
   "cell_type": "code",
   "execution_count": 89,
   "metadata": {
    "scrolled": false
   },
   "outputs": [
    {
     "name": "stdout",
     "output_type": "stream",
     "text": [
      "Classified using <class 'sklearn.svm._classes.SVC'>.\n",
      "1845 features identified, with a total feature frequency across the entire dataset of 261423.\n",
      "\n",
      "Training report:\n",
      "               precision    recall  f1-score   support\n",
      "\n",
      "         Neg       1.00      1.00      1.00       552\n",
      "         Pos       1.00      1.00      1.00       553\n",
      "\n",
      "    accuracy                           1.00      1105\n",
      "   macro avg       1.00      1.00      1.00      1105\n",
      "weighted avg       1.00      1.00      1.00      1105\n",
      "\n",
      "\n",
      "Testing report:\n",
      "               precision    recall  f1-score   support\n",
      "\n",
      "         Neg       0.79      0.70      0.74       139\n",
      "         Pos       0.73      0.81      0.77       138\n",
      "\n",
      "    accuracy                           0.75       277\n",
      "   macro avg       0.76      0.75      0.75       277\n",
      "weighted avg       0.76      0.75      0.75       277\n",
      "\n"
     ]
    },
    {
     "data": {
      "image/png": "[encoded data removed]",
      "text/plain": [
       "<Figure size 432x288 with 2 Axes>"
      ]
     },
     "metadata": {
      "needs_background": "light"
     },
     "output_type": "display_data"
    },
    {
     "data": {
      "image/png": "[encoded data removed]",
      "text/plain": [
       "<Figure size 432x288 with 2 Axes>"
      ]
     },
     "metadata": {
      "needs_background": "light"
     },
     "output_type": "display_data"
    }
   ],
   "source": [
    "# Part 2 - using a linear Support Vector Machine\n",
    "svm_clf = svm.SVC(kernel = 'linear')\n",
    "predict(svm_clf, train_features, train_labels, test_features, test_labels)"
   ]
  },
  {
   "cell_type": "markdown",
   "metadata": {},
   "source": [
    "### SVM vs Naive Bayes\n",
    "\n",
    "By comparing the confusion matrix, one can see that 3 more negative reviews were correctly identified by the SVM compared to the Naive Bayes classifier. However, this is a very minor difference overall and it would not necessarily always perform better for different splits of the data. The classifiers can be assumed to have approximately the same accuracy.\n",
    "\n",
    "For both classifiers the precision for negative reviews was slightly better than for positive reviews. This suggests that people are more likely to use overly negative language in their negative reviews which can be picked out by the classifiers.\n",
    "\n"
   ]
  }
 ],
 "metadata": {
  "kernelspec": {
   "display_name": "Python 3",
   "language": "python",
   "name": "python3"
  },
  "language_info": {
   "codemirror_mode": {
    "name": "ipython",
    "version": 3
   },
   "file_extension": ".py",
   "mimetype": "text/x-python",
   "name": "python",
   "nbconvert_exporter": "python",
   "pygments_lexer": "ipython3",
   "version": "3.8.11"
  }
 },
 "nbformat": 4,
 "nbformat_minor": 4
}
